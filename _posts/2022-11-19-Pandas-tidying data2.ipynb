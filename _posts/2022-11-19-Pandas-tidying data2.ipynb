---
layout: single
title: \[판다스 기초] 데이터 정리 (2)
categories:
  - Pandas
tags:
  - [python, pandas, tidying data]
toc: true
toc_sticky: true
date: 2022-11-19
---


{
 "cells": [
  {
   "cell_type": "markdown",
   "id": "ee7729a9",
   "metadata": {},
   "source": [
    "# [판다스 기초] 데이터 정리 (2)\n",
    "\n",
    "데이터 분석 목적에 따라, 컬럼 <-> 행 변화로 테이블 형태 자유롭게 변형 가능"
   ]
  },
  {
   "cell_type": "markdown",
   "id": "80989747",
   "metadata": {},
   "source": [
    "**Table 1.**     피어슨 테스트 적합\n",
    "\n",
    "|            | Pregnant | Not pregnant |\n",
    "|-----------:|:--------:|:------------:|\n",
    "| **Male**   |     0    |      5       |\n",
    "| **Female** |     1    |      4       |\n",
    "\n",
    "**Table 2.**     regression에 적합\n",
    "\n",
    "| Gender  | Pregnant | Count |\n",
    "|:-------:|:--------:|:-----:|\n",
    "| Male    | Yes      | 0     |\n",
    "| Male    | No       | 5     |\n",
    "| Female  | Yes      | 1     |\n",
    "| Female  | No       | 4     |"
   ]
  },
  {
   "cell_type": "markdown",
   "id": "fa8da201",
   "metadata": {},
   "source": [
    "-열: variable, 행: observation 나타냄. (값은 범주형/연속형)\\\n",
    "-분석하고자 하는 방향에 따라 열 또는 행을 다른 형태로 변형할 수 있어야한다."
   ]
  },
  {
   "cell_type": "code",
   "execution_count": 2,
   "id": "11a25592",
   "metadata": {},
   "outputs": [],
   "source": [
    "import pandas as pd\n",
    "from io import StringIO"
   ]
  },
  {
   "cell_type": "code",
   "execution_count": 3,
   "id": "21432312",
   "metadata": {},
   "outputs": [],
   "source": [
    "A_csv = \"\"\"city,year,cases\n",
    "A,2010,745\n",
    "B,2010,37737\n",
    "C,2010,212258\n",
    "A,2020,2666\n",
    "B,2020,80488\n",
    "C,2020,213766\"\"\"\n",
    "\n",
    "with StringIO(A_csv) as fp:\n",
    "    A = pd.read_csv(fp)"
   ]
  },
  {
   "cell_type": "code",
   "execution_count": 4,
   "id": "43ecbec3",
   "metadata": {},
   "outputs": [],
   "source": [
    "B_csv = \"\"\"city,year,population\n",
    "A,2010,1235795\n",
    "B,2010,56837737\n",
    "C,2010,256812258\n",
    "A,2020,2665476\n",
    "B,2020,82014878\n",
    "C,2020,2117376956\"\"\"\n",
    "\n",
    "with StringIO(B_csv) as fp:\n",
    "    B = pd.read_csv(fp)"
   ]
  },
  {
   "cell_type": "markdown",
   "id": "92ad741c",
   "metadata": {},
   "source": [
    "### `.merge()`\n",
    "-병합: 두 DF를 각 데이터에 존재하는 고유값(key)를 기준\\\n",
    "-디폴트 설정: pd.merge(df_left, df_right, how='inner', on=None)\\\n",
    "-outer 합집합, inner 교집합 의미"
   ]
  },
  {
   "cell_type": "code",
   "execution_count": 5,
   "id": "7b89943f",
   "metadata": {
    "scrolled": true
   },
   "outputs": [
    {
     "data": {
      "text/html": [
       "<div>\n",
       "<style scoped>\n",
       "    .dataframe tbody tr th:only-of-type {\n",
       "        vertical-align: middle;\n",
       "    }\n",
       "\n",
       "    .dataframe tbody tr th {\n",
       "        vertical-align: top;\n",
       "    }\n",
       "\n",
       "    .dataframe thead th {\n",
       "        text-align: right;\n",
       "    }\n",
       "</style>\n",
       "<table border=\"1\" class=\"dataframe\">\n",
       "  <thead>\n",
       "    <tr style=\"text-align: right;\">\n",
       "      <th></th>\n",
       "      <th>city</th>\n",
       "      <th>year</th>\n",
       "      <th>cases</th>\n",
       "      <th>population</th>\n",
       "    </tr>\n",
       "  </thead>\n",
       "  <tbody>\n",
       "    <tr>\n",
       "      <th>0</th>\n",
       "      <td>A</td>\n",
       "      <td>2010</td>\n",
       "      <td>745</td>\n",
       "      <td>1235795</td>\n",
       "    </tr>\n",
       "    <tr>\n",
       "      <th>1</th>\n",
       "      <td>B</td>\n",
       "      <td>2010</td>\n",
       "      <td>37737</td>\n",
       "      <td>56837737</td>\n",
       "    </tr>\n",
       "    <tr>\n",
       "      <th>2</th>\n",
       "      <td>C</td>\n",
       "      <td>2010</td>\n",
       "      <td>212258</td>\n",
       "      <td>256812258</td>\n",
       "    </tr>\n",
       "    <tr>\n",
       "      <th>3</th>\n",
       "      <td>A</td>\n",
       "      <td>2020</td>\n",
       "      <td>2666</td>\n",
       "      <td>2665476</td>\n",
       "    </tr>\n",
       "    <tr>\n",
       "      <th>4</th>\n",
       "      <td>B</td>\n",
       "      <td>2020</td>\n",
       "      <td>80488</td>\n",
       "      <td>82014878</td>\n",
       "    </tr>\n",
       "    <tr>\n",
       "      <th>5</th>\n",
       "      <td>C</td>\n",
       "      <td>2020</td>\n",
       "      <td>213766</td>\n",
       "      <td>2117376956</td>\n",
       "    </tr>\n",
       "  </tbody>\n",
       "</table>\n",
       "</div>"
      ],
      "text/plain": [
       "  city  year   cases  population\n",
       "0    A  2010     745     1235795\n",
       "1    B  2010   37737    56837737\n",
       "2    C  2010  212258   256812258\n",
       "3    A  2020    2666     2665476\n",
       "4    B  2020   80488    82014878\n",
       "5    C  2020  213766  2117376956"
      ]
     },
     "execution_count": 5,
     "metadata": {},
     "output_type": "execute_result"
    }
   ],
   "source": [
    "C = A.merge(B, on=['city', 'year'])  # 공통 key 두개 기준, 교집합 조인\n",
    "C"
   ]
  },
  {
   "cell_type": "markdown",
   "id": "3a06d9ea",
   "metadata": {},
   "source": [
    "### `.join()`\n",
    "`inner-join(A, B)`디폴트: on-keys가 매칭되는 행만 남김\\\n",
    "`outer-join(A, B)`: 합집합, on-keys가 매칭되지 않으면 NaN값으로 채움\\\n",
    "`left-join(A, B)`: A의 모든 행을 남기고 B는 A와 매칭되는 on-keys의 행만 결합\\\n",
    "`right-join(A, B)`: B의 모든 행을 남기고 A는 B와 매칭되는 on-keys의 행만 결합"
   ]
  },
  {
   "cell_type": "code",
   "execution_count": 6,
   "id": "b6a06c3e",
   "metadata": {},
   "outputs": [],
   "source": [
    "with StringIO(\"\"\"a,b,c\n",
    "bug,4,x\n",
    "rug,2,x\n",
    "lug,1,x\n",
    "mug,3,x\"\"\") as fp:\n",
    "    D = pd.read_csv(fp)\n",
    "\n",
    "with StringIO(\"\"\"a,b,d\n",
    "hug,-1,y\n",
    "smug,-2,y\n",
    "rug,-3,y\n",
    "tug,-4,y\n",
    "bug,4,y\"\"\") as fp:\n",
    "    E = pd.read_csv(fp)"
   ]
  },
  {
   "cell_type": "code",
   "execution_count": 7,
   "id": "6fb3ebf1",
   "metadata": {},
   "outputs": [
    {
     "data": {
      "text/html": [
       "<div>\n",
       "<style scoped>\n",
       "    .dataframe tbody tr th:only-of-type {\n",
       "        vertical-align: middle;\n",
       "    }\n",
       "\n",
       "    .dataframe tbody tr th {\n",
       "        vertical-align: top;\n",
       "    }\n",
       "\n",
       "    .dataframe thead th {\n",
       "        text-align: right;\n",
       "    }\n",
       "</style>\n",
       "<table border=\"1\" class=\"dataframe\">\n",
       "  <thead>\n",
       "    <tr style=\"text-align: right;\">\n",
       "      <th></th>\n",
       "      <th>a</th>\n",
       "      <th>b</th>\n",
       "      <th>c</th>\n",
       "      <th>d</th>\n",
       "    </tr>\n",
       "  </thead>\n",
       "  <tbody>\n",
       "    <tr>\n",
       "      <th>0</th>\n",
       "      <td>bug</td>\n",
       "      <td>4</td>\n",
       "      <td>x</td>\n",
       "      <td>y</td>\n",
       "    </tr>\n",
       "  </tbody>\n",
       "</table>\n",
       "</div>"
      ],
      "text/plain": [
       "     a  b  c  d\n",
       "0  bug  4  x  y"
      ]
     },
     "execution_count": 7,
     "metadata": {},
     "output_type": "execute_result"
    }
   ],
   "source": [
    "D.merge(E, on=['a', 'b'])   # inner-join"
   ]
  },
  {
   "cell_type": "code",
   "execution_count": 8,
   "id": "1ed2cd4d",
   "metadata": {},
   "outputs": [
    {
     "data": {
      "text/html": [
       "<div>\n",
       "<style scoped>\n",
       "    .dataframe tbody tr th:only-of-type {\n",
       "        vertical-align: middle;\n",
       "    }\n",
       "\n",
       "    .dataframe tbody tr th {\n",
       "        vertical-align: top;\n",
       "    }\n",
       "\n",
       "    .dataframe thead th {\n",
       "        text-align: right;\n",
       "    }\n",
       "</style>\n",
       "<table border=\"1\" class=\"dataframe\">\n",
       "  <thead>\n",
       "    <tr style=\"text-align: right;\">\n",
       "      <th></th>\n",
       "      <th>a</th>\n",
       "      <th>b</th>\n",
       "      <th>c</th>\n",
       "      <th>d</th>\n",
       "    </tr>\n",
       "  </thead>\n",
       "  <tbody>\n",
       "    <tr>\n",
       "      <th>0</th>\n",
       "      <td>bug</td>\n",
       "      <td>4</td>\n",
       "      <td>x</td>\n",
       "      <td>y</td>\n",
       "    </tr>\n",
       "    <tr>\n",
       "      <th>1</th>\n",
       "      <td>rug</td>\n",
       "      <td>2</td>\n",
       "      <td>x</td>\n",
       "      <td>NaN</td>\n",
       "    </tr>\n",
       "    <tr>\n",
       "      <th>2</th>\n",
       "      <td>lug</td>\n",
       "      <td>1</td>\n",
       "      <td>x</td>\n",
       "      <td>NaN</td>\n",
       "    </tr>\n",
       "    <tr>\n",
       "      <th>3</th>\n",
       "      <td>mug</td>\n",
       "      <td>3</td>\n",
       "      <td>x</td>\n",
       "      <td>NaN</td>\n",
       "    </tr>\n",
       "    <tr>\n",
       "      <th>4</th>\n",
       "      <td>hug</td>\n",
       "      <td>-1</td>\n",
       "      <td>NaN</td>\n",
       "      <td>y</td>\n",
       "    </tr>\n",
       "    <tr>\n",
       "      <th>5</th>\n",
       "      <td>smug</td>\n",
       "      <td>-2</td>\n",
       "      <td>NaN</td>\n",
       "      <td>y</td>\n",
       "    </tr>\n",
       "    <tr>\n",
       "      <th>6</th>\n",
       "      <td>rug</td>\n",
       "      <td>-3</td>\n",
       "      <td>NaN</td>\n",
       "      <td>y</td>\n",
       "    </tr>\n",
       "    <tr>\n",
       "      <th>7</th>\n",
       "      <td>tug</td>\n",
       "      <td>-4</td>\n",
       "      <td>NaN</td>\n",
       "      <td>y</td>\n",
       "    </tr>\n",
       "  </tbody>\n",
       "</table>\n",
       "</div>"
      ],
      "text/plain": [
       "      a  b    c    d\n",
       "0   bug  4    x    y\n",
       "1   rug  2    x  NaN\n",
       "2   lug  1    x  NaN\n",
       "3   mug  3    x  NaN\n",
       "4   hug -1  NaN    y\n",
       "5  smug -2  NaN    y\n",
       "6   rug -3  NaN    y\n",
       "7   tug -4  NaN    y"
      ]
     },
     "execution_count": 8,
     "metadata": {},
     "output_type": "execute_result"
    }
   ],
   "source": [
    "D.merge(E, on=['a', 'b'], how='outer')  # outer-join"
   ]
  },
  {
   "cell_type": "code",
   "execution_count": 9,
   "id": "6e23eae2",
   "metadata": {},
   "outputs": [
    {
     "data": {
      "text/html": [
       "<div>\n",
       "<style scoped>\n",
       "    .dataframe tbody tr th:only-of-type {\n",
       "        vertical-align: middle;\n",
       "    }\n",
       "\n",
       "    .dataframe tbody tr th {\n",
       "        vertical-align: top;\n",
       "    }\n",
       "\n",
       "    .dataframe thead th {\n",
       "        text-align: right;\n",
       "    }\n",
       "</style>\n",
       "<table border=\"1\" class=\"dataframe\">\n",
       "  <thead>\n",
       "    <tr style=\"text-align: right;\">\n",
       "      <th></th>\n",
       "      <th>a</th>\n",
       "      <th>b</th>\n",
       "      <th>c</th>\n",
       "      <th>d</th>\n",
       "    </tr>\n",
       "  </thead>\n",
       "  <tbody>\n",
       "    <tr>\n",
       "      <th>0</th>\n",
       "      <td>bug</td>\n",
       "      <td>4</td>\n",
       "      <td>x</td>\n",
       "      <td>y</td>\n",
       "    </tr>\n",
       "    <tr>\n",
       "      <th>1</th>\n",
       "      <td>rug</td>\n",
       "      <td>2</td>\n",
       "      <td>x</td>\n",
       "      <td>NaN</td>\n",
       "    </tr>\n",
       "    <tr>\n",
       "      <th>2</th>\n",
       "      <td>lug</td>\n",
       "      <td>1</td>\n",
       "      <td>x</td>\n",
       "      <td>NaN</td>\n",
       "    </tr>\n",
       "    <tr>\n",
       "      <th>3</th>\n",
       "      <td>mug</td>\n",
       "      <td>3</td>\n",
       "      <td>x</td>\n",
       "      <td>NaN</td>\n",
       "    </tr>\n",
       "  </tbody>\n",
       "</table>\n",
       "</div>"
      ],
      "text/plain": [
       "     a  b  c    d\n",
       "0  bug  4  x    y\n",
       "1  rug  2  x  NaN\n",
       "2  lug  1  x  NaN\n",
       "3  mug  3  x  NaN"
      ]
     },
     "execution_count": 9,
     "metadata": {},
     "output_type": "execute_result"
    }
   ],
   "source": [
    "D.merge(E, on=['a', 'b'], how='left')  # left-join"
   ]
  },
  {
   "cell_type": "code",
   "execution_count": 10,
   "id": "1e49da37",
   "metadata": {},
   "outputs": [
    {
     "data": {
      "text/html": [
       "<div>\n",
       "<style scoped>\n",
       "    .dataframe tbody tr th:only-of-type {\n",
       "        vertical-align: middle;\n",
       "    }\n",
       "\n",
       "    .dataframe tbody tr th {\n",
       "        vertical-align: top;\n",
       "    }\n",
       "\n",
       "    .dataframe thead th {\n",
       "        text-align: right;\n",
       "    }\n",
       "</style>\n",
       "<table border=\"1\" class=\"dataframe\">\n",
       "  <thead>\n",
       "    <tr style=\"text-align: right;\">\n",
       "      <th></th>\n",
       "      <th>a</th>\n",
       "      <th>b</th>\n",
       "      <th>c</th>\n",
       "      <th>d</th>\n",
       "    </tr>\n",
       "  </thead>\n",
       "  <tbody>\n",
       "    <tr>\n",
       "      <th>0</th>\n",
       "      <td>hug</td>\n",
       "      <td>-1</td>\n",
       "      <td>NaN</td>\n",
       "      <td>y</td>\n",
       "    </tr>\n",
       "    <tr>\n",
       "      <th>1</th>\n",
       "      <td>smug</td>\n",
       "      <td>-2</td>\n",
       "      <td>NaN</td>\n",
       "      <td>y</td>\n",
       "    </tr>\n",
       "    <tr>\n",
       "      <th>2</th>\n",
       "      <td>rug</td>\n",
       "      <td>-3</td>\n",
       "      <td>NaN</td>\n",
       "      <td>y</td>\n",
       "    </tr>\n",
       "    <tr>\n",
       "      <th>3</th>\n",
       "      <td>tug</td>\n",
       "      <td>-4</td>\n",
       "      <td>NaN</td>\n",
       "      <td>y</td>\n",
       "    </tr>\n",
       "    <tr>\n",
       "      <th>4</th>\n",
       "      <td>bug</td>\n",
       "      <td>4</td>\n",
       "      <td>x</td>\n",
       "      <td>y</td>\n",
       "    </tr>\n",
       "  </tbody>\n",
       "</table>\n",
       "</div>"
      ],
      "text/plain": [
       "      a  b    c  d\n",
       "0   hug -1  NaN  y\n",
       "1  smug -2  NaN  y\n",
       "2   rug -3  NaN  y\n",
       "3   tug -4  NaN  y\n",
       "4   bug  4    x  y"
      ]
     },
     "execution_count": 10,
     "metadata": {},
     "output_type": "execute_result"
    }
   ],
   "source": [
    "D.merge(E, on=['a', 'b'], how='right') # right-join"
   ]
  },
  {
   "cell_type": "markdown",
   "id": "24e826e2",
   "metadata": {},
   "source": [
    "### `apply()`"
   ]
  },
  {
   "cell_type": "code",
   "execution_count": 11,
   "id": "24ffb67b",
   "metadata": {},
   "outputs": [
    {
     "data": {
      "text/html": [
       "<div>\n",
       "<style scoped>\n",
       "    .dataframe tbody tr th:only-of-type {\n",
       "        vertical-align: middle;\n",
       "    }\n",
       "\n",
       "    .dataframe tbody tr th {\n",
       "        vertical-align: top;\n",
       "    }\n",
       "\n",
       "    .dataframe thead th {\n",
       "        text-align: right;\n",
       "    }\n",
       "</style>\n",
       "<table border=\"1\" class=\"dataframe\">\n",
       "  <thead>\n",
       "    <tr style=\"text-align: right;\">\n",
       "      <th></th>\n",
       "      <th>city</th>\n",
       "      <th>year</th>\n",
       "      <th>cases</th>\n",
       "      <th>population</th>\n",
       "    </tr>\n",
       "  </thead>\n",
       "  <tbody>\n",
       "    <tr>\n",
       "      <th>0</th>\n",
       "      <td>A</td>\n",
       "      <td>`10</td>\n",
       "      <td>745</td>\n",
       "      <td>1235795</td>\n",
       "    </tr>\n",
       "    <tr>\n",
       "      <th>1</th>\n",
       "      <td>B</td>\n",
       "      <td>`10</td>\n",
       "      <td>37737</td>\n",
       "      <td>56837737</td>\n",
       "    </tr>\n",
       "    <tr>\n",
       "      <th>2</th>\n",
       "      <td>C</td>\n",
       "      <td>`10</td>\n",
       "      <td>212258</td>\n",
       "      <td>256812258</td>\n",
       "    </tr>\n",
       "    <tr>\n",
       "      <th>3</th>\n",
       "      <td>A</td>\n",
       "      <td>`20</td>\n",
       "      <td>2666</td>\n",
       "      <td>2665476</td>\n",
       "    </tr>\n",
       "    <tr>\n",
       "      <th>4</th>\n",
       "      <td>B</td>\n",
       "      <td>`20</td>\n",
       "      <td>80488</td>\n",
       "      <td>82014878</td>\n",
       "    </tr>\n",
       "    <tr>\n",
       "      <th>5</th>\n",
       "      <td>C</td>\n",
       "      <td>`20</td>\n",
       "      <td>213766</td>\n",
       "      <td>2117376956</td>\n",
       "    </tr>\n",
       "  </tbody>\n",
       "</table>\n",
       "</div>"
      ],
      "text/plain": [
       "  city year   cases  population\n",
       "0    A  `10     745     1235795\n",
       "1    B  `10   37737    56837737\n",
       "2    C  `10  212258   256812258\n",
       "3    A  `20    2666     2665476\n",
       "4    B  `20   80488    82014878\n",
       "5    C  `20  213766  2117376956"
      ]
     },
     "execution_count": 11,
     "metadata": {},
     "output_type": "execute_result"
    }
   ],
   "source": [
    "CC=C.copy()\n",
    "CC['year']=CC['year'].apply(lambda x: \"`{:02d}\".format(x % 100))\n",
    "CC"
   ]
  },
  {
   "cell_type": "code",
   "execution_count": 12,
   "id": "7f329966",
   "metadata": {
    "scrolled": true
   },
   "outputs": [
    {
     "data": {
      "text/plain": [
       "3"
      ]
     },
     "execution_count": 12,
     "metadata": {},
     "output_type": "execute_result"
    }
   ],
   "source": [
    "# x % 100 :  x를 100으로 나눈 나머지\n",
    "103%100"
   ]
  },
  {
   "cell_type": "code",
   "execution_count": 13,
   "id": "0f3dbc45",
   "metadata": {},
   "outputs": [
    {
     "data": {
      "text/plain": [
       "'02'"
      ]
     },
     "execution_count": 13,
     "metadata": {},
     "output_type": "execute_result"
    }
   ],
   "source": [
    "# {:02d} : 최소 두자리수 만들기\n",
    "\"{:02}\".format(2)"
   ]
  },
  {
   "cell_type": "markdown",
   "id": "6d6dd595",
   "metadata": {},
   "source": [
    "**연습문제**"
   ]
  },
  {
   "cell_type": "code",
   "execution_count": 1,
   "id": "e936b1e5",
   "metadata": {},
   "outputs": [],
   "source": [
    "# apply함수를 이용해서 비율을 구하기\n",
    "def cal(F):\n",
    "    assert 'cases' in F.columns and 'population' in F.columns\n",
    "    ###\n",
    "    def cal(F):\n",
    "        return F['cases']/F['population']\n",
    "    G = F.copy()\n",
    "    G['proportion'] = G.apply(cal, axis=1)   # axis=1 열방향 적용\n",
    "    return G"
   ]
  },
  {
   "cell_type": "code",
   "execution_count": 32,
   "id": "524e8ce8",
   "metadata": {},
   "outputs": [],
   "source": [
    "# 정렬하기\n",
    "def organize(F):\n",
    "    \n",
    "    # 컬럼명을 이름순으로 정렬\n",
    "    var_names = sorted(F.columns)\n",
    "    G = F[var_names].copy()\n",
    "    \n",
    "    # 각 행을 오름차순으로 정렬\n",
    "    G.sort_values(by=var_names, inplace=True)\n",
    "    \n",
    "    # 인덱스를 재정렬\n",
    "    G.reset_index(drop=True, inplace=True)\n",
    "    \n",
    "    return G"
   ]
  },
  {
   "cell_type": "code",
   "execution_count": 36,
   "id": "b18e10c3",
   "metadata": {},
   "outputs": [],
   "source": [
    "# 두 테이블이 같은지 확인하는 함수 만들기 v.1\n",
    "def check_equivalent(A, B):\n",
    "    \n",
    "    o_A = organize(A)\n",
    "    o_B = organize(B)\n",
    "    equal = (o_A == o_B)\n",
    "    return equal.all().all()   # all()이 하나면 컬럼별로 T/F 출력"
   ]
  },
  {
   "cell_type": "code",
   "execution_count": 37,
   "id": "416b6525",
   "metadata": {
    "scrolled": false
   },
   "outputs": [
    {
     "data": {
      "text/plain": [
       "a     True\n",
       "b    False\n",
       "dtype: bool"
      ]
     },
     "execution_count": 37,
     "metadata": {},
     "output_type": "execute_result"
    }
   ],
   "source": [
    "a=pd.DataFrame({'a':[1,2], 'b':[5,7]})\n",
    "b=pd.DataFrame({'a':[1,2], 'b':[4,7]})\n",
    "(a==b).all()   # all()이 하나면 컬럼별로 T/F 출력"
   ]
  },
  {
   "cell_type": "markdown",
   "id": "8135b4c0",
   "metadata": {},
   "source": [
    "`.all()` \\\n",
    "반복 가능 객체의 모든 요소가 True면 True 반환. 하나라도 False면 False 반환 \\\n",
    "(dictionary의 경우, key가 True인지 체크)\\\n",
    "`.any()`\\\n",
    "반복 가능 객체의 요소가 하나라도 True면 True 반환"
   ]
  },
  {
   "cell_type": "code",
   "execution_count": 38,
   "id": "2b420cfa",
   "metadata": {},
   "outputs": [],
   "source": [
    "# 두 테이블이 같은지 확인하는 함수 만들기 v.2\n",
    "def check_equivalent(A, B):\n",
    "    for c in A.columns:\n",
    "        total = list(zip(A[c], B[c]))\n",
    "        for t in total:\n",
    "            if t[0] == t[1]:\n",
    "                return True\n",
    "            else:\n",
    "                return False"
   ]
  },
  {
   "cell_type": "markdown",
   "id": "39dca068",
   "metadata": {},
   "source": [
    "### `Melting`\n",
    "컬럼을 행으로 바꾸기"
   ]
  },
  {
   "cell_type": "code",
   "execution_count": 45,
   "id": "ad2c8359",
   "metadata": {},
   "outputs": [
    {
     "data": {
      "text/html": [
       "<div>\n",
       "<style scoped>\n",
       "    .dataframe tbody tr th:only-of-type {\n",
       "        vertical-align: middle;\n",
       "    }\n",
       "\n",
       "    .dataframe tbody tr th {\n",
       "        vertical-align: top;\n",
       "    }\n",
       "\n",
       "    .dataframe thead th {\n",
       "        text-align: right;\n",
       "    }\n",
       "</style>\n",
       "<table border=\"1\" class=\"dataframe\">\n",
       "  <thead>\n",
       "    <tr style=\"text-align: right;\">\n",
       "      <th></th>\n",
       "      <th>cities</th>\n",
       "      <th>2020</th>\n",
       "      <th>2021</th>\n",
       "    </tr>\n",
       "  </thead>\n",
       "  <tbody>\n",
       "    <tr>\n",
       "      <th>0</th>\n",
       "      <td>a</td>\n",
       "      <td>123</td>\n",
       "      <td>751</td>\n",
       "    </tr>\n",
       "    <tr>\n",
       "      <th>1</th>\n",
       "      <td>b</td>\n",
       "      <td>456</td>\n",
       "      <td>849</td>\n",
       "    </tr>\n",
       "    <tr>\n",
       "      <th>2</th>\n",
       "      <td>c</td>\n",
       "      <td>789</td>\n",
       "      <td>621</td>\n",
       "    </tr>\n",
       "  </tbody>\n",
       "</table>\n",
       "</div>"
      ],
      "text/plain": [
       "  cities  2020  2021\n",
       "0      a   123   751\n",
       "1      b   456   849\n",
       "2      c   789   621"
      ]
     },
     "metadata": {},
     "output_type": "display_data"
    },
    {
     "data": {
      "text/html": [
       "<div>\n",
       "<style scoped>\n",
       "    .dataframe tbody tr th:only-of-type {\n",
       "        vertical-align: middle;\n",
       "    }\n",
       "\n",
       "    .dataframe tbody tr th {\n",
       "        vertical-align: top;\n",
       "    }\n",
       "\n",
       "    .dataframe thead th {\n",
       "        text-align: right;\n",
       "    }\n",
       "</style>\n",
       "<table border=\"1\" class=\"dataframe\">\n",
       "  <thead>\n",
       "    <tr style=\"text-align: right;\">\n",
       "      <th></th>\n",
       "      <th>cities</th>\n",
       "      <th>year</th>\n",
       "      <th>cases</th>\n",
       "    </tr>\n",
       "  </thead>\n",
       "  <tbody>\n",
       "    <tr>\n",
       "      <th>0</th>\n",
       "      <td>a</td>\n",
       "      <td>2020</td>\n",
       "      <td>123</td>\n",
       "    </tr>\n",
       "    <tr>\n",
       "      <th>1</th>\n",
       "      <td>a</td>\n",
       "      <td>2021</td>\n",
       "      <td>751</td>\n",
       "    </tr>\n",
       "    <tr>\n",
       "      <th>2</th>\n",
       "      <td>b</td>\n",
       "      <td>2020</td>\n",
       "      <td>456</td>\n",
       "    </tr>\n",
       "    <tr>\n",
       "      <th>3</th>\n",
       "      <td>b</td>\n",
       "      <td>2021</td>\n",
       "      <td>849</td>\n",
       "    </tr>\n",
       "    <tr>\n",
       "      <th>4</th>\n",
       "      <td>c</td>\n",
       "      <td>2020</td>\n",
       "      <td>789</td>\n",
       "    </tr>\n",
       "    <tr>\n",
       "      <th>5</th>\n",
       "      <td>c</td>\n",
       "      <td>2021</td>\n",
       "      <td>621</td>\n",
       "    </tr>\n",
       "  </tbody>\n",
       "</table>\n",
       "</div>"
      ],
      "text/plain": [
       "  cities  year  cases\n",
       "0      a  2020    123\n",
       "1      a  2021    751\n",
       "2      b  2020    456\n",
       "3      b  2021    849\n",
       "4      c  2020    789\n",
       "5      c  2021    621"
      ]
     },
     "metadata": {},
     "output_type": "display_data"
    }
   ],
   "source": [
    "a = pd.DataFrame({'cities':['a','b','c'], 2020:[123,456,789], 2021:[751,849,621]})\n",
    "b = pd.DataFrame({'cities':['a','a','b','b','c','c'], 'year':[2020,2021,2020,2021,2020,2021],'cases':[123,751,456,849,789,621]})\n",
    "display(a)\n",
    "display(b)   # a 테이블을 b 테이블로 형태 변화"
   ]
  },
  {
   "cell_type": "code",
   "execution_count": 46,
   "id": "63c9dd03",
   "metadata": {},
   "outputs": [],
   "source": [
    "def melt(df, list_col, key, value):\n",
    "    # list_col: 바꿀 컬럼명들, key: 새로운 컬럼명, value: 값을 가져갈 컬럼명\n",
    "    keep_vars = df.columns.difference(list_col) # 바꿀 컬럼명 제외한 나머지 컬럼들\n",
    "    melted_sections = [] # 빈 리스트\n",
    "    for c in list_col:   # 바꿀 컬럼 하나하나에 대해서 \n",
    "        melted_c = df[keep_vars].copy() # DF와 동일한 컬럼들만 카피\n",
    "        melted_c[key] = c   # melted_c['year'] = 2020 또는 2021\n",
    "        melted_c[value] = df[c] # melted_c['cases'] = df[2020] 또는 df[2021]\n",
    "        melted_sections.append(melted_c) # 빈 리스트에 확장\n",
    "    melted = pd.concat(melted_sections) # 행 방향으로 데이터 결합\n",
    "    return melted"
   ]
  },
  {
   "cell_type": "markdown",
   "id": "3b12ad9d",
   "metadata": {},
   "source": [
    "### `Casting`\n",
    "행을 병합"
   ]
  },
  {
   "cell_type": "code",
   "execution_count": 47,
   "id": "0b1addea",
   "metadata": {},
   "outputs": [
    {
     "data": {
      "text/html": [
       "<div>\n",
       "<style scoped>\n",
       "    .dataframe tbody tr th:only-of-type {\n",
       "        vertical-align: middle;\n",
       "    }\n",
       "\n",
       "    .dataframe tbody tr th {\n",
       "        vertical-align: top;\n",
       "    }\n",
       "\n",
       "    .dataframe thead th {\n",
       "        text-align: right;\n",
       "    }\n",
       "</style>\n",
       "<table border=\"1\" class=\"dataframe\">\n",
       "  <thead>\n",
       "    <tr style=\"text-align: right;\">\n",
       "      <th></th>\n",
       "      <th>cities</th>\n",
       "      <th>year</th>\n",
       "      <th>cases</th>\n",
       "    </tr>\n",
       "  </thead>\n",
       "  <tbody>\n",
       "    <tr>\n",
       "      <th>0</th>\n",
       "      <td>a</td>\n",
       "      <td>2020</td>\n",
       "      <td>123</td>\n",
       "    </tr>\n",
       "    <tr>\n",
       "      <th>1</th>\n",
       "      <td>a</td>\n",
       "      <td>2021</td>\n",
       "      <td>751</td>\n",
       "    </tr>\n",
       "    <tr>\n",
       "      <th>2</th>\n",
       "      <td>b</td>\n",
       "      <td>2020</td>\n",
       "      <td>456</td>\n",
       "    </tr>\n",
       "    <tr>\n",
       "      <th>3</th>\n",
       "      <td>b</td>\n",
       "      <td>2021</td>\n",
       "      <td>849</td>\n",
       "    </tr>\n",
       "    <tr>\n",
       "      <th>4</th>\n",
       "      <td>c</td>\n",
       "      <td>2020</td>\n",
       "      <td>789</td>\n",
       "    </tr>\n",
       "    <tr>\n",
       "      <th>5</th>\n",
       "      <td>c</td>\n",
       "      <td>2021</td>\n",
       "      <td>621</td>\n",
       "    </tr>\n",
       "  </tbody>\n",
       "</table>\n",
       "</div>"
      ],
      "text/plain": [
       "  cities  year  cases\n",
       "0      a  2020    123\n",
       "1      a  2021    751\n",
       "2      b  2020    456\n",
       "3      b  2021    849\n",
       "4      c  2020    789\n",
       "5      c  2021    621"
      ]
     },
     "metadata": {},
     "output_type": "display_data"
    },
    {
     "data": {
      "text/html": [
       "<div>\n",
       "<style scoped>\n",
       "    .dataframe tbody tr th:only-of-type {\n",
       "        vertical-align: middle;\n",
       "    }\n",
       "\n",
       "    .dataframe tbody tr th {\n",
       "        vertical-align: top;\n",
       "    }\n",
       "\n",
       "    .dataframe thead th {\n",
       "        text-align: right;\n",
       "    }\n",
       "</style>\n",
       "<table border=\"1\" class=\"dataframe\">\n",
       "  <thead>\n",
       "    <tr style=\"text-align: right;\">\n",
       "      <th></th>\n",
       "      <th>cities</th>\n",
       "      <th>2020</th>\n",
       "      <th>2021</th>\n",
       "    </tr>\n",
       "  </thead>\n",
       "  <tbody>\n",
       "    <tr>\n",
       "      <th>0</th>\n",
       "      <td>a</td>\n",
       "      <td>123</td>\n",
       "      <td>751</td>\n",
       "    </tr>\n",
       "    <tr>\n",
       "      <th>1</th>\n",
       "      <td>b</td>\n",
       "      <td>456</td>\n",
       "      <td>849</td>\n",
       "    </tr>\n",
       "    <tr>\n",
       "      <th>2</th>\n",
       "      <td>c</td>\n",
       "      <td>789</td>\n",
       "      <td>621</td>\n",
       "    </tr>\n",
       "  </tbody>\n",
       "</table>\n",
       "</div>"
      ],
      "text/plain": [
       "  cities  2020  2021\n",
       "0      a   123   751\n",
       "1      b   456   849\n",
       "2      c   789   621"
      ]
     },
     "metadata": {},
     "output_type": "display_data"
    }
   ],
   "source": [
    "a = pd.DataFrame({'cities':['a','a','b','b','c','c'], 'year':[2020,2021,2020,2021,2020,2021],'cases':[123,751,456,849,789,621]})\n",
    "b = pd.DataFrame({'cities':['a','b','c'], 2020:[123,456,789], 2021:[751,849,621]})\n",
    "display(a)\n",
    "display(b)   # a 테이블을 b 테이블로 형태 변화"
   ]
  },
  {
   "cell_type": "code",
   "execution_count": 48,
   "id": "9b7a3280",
   "metadata": {},
   "outputs": [],
   "source": [
    "def cast(df, key, value, join_how='outer'):\n",
    "    fixed_vars = df.columns.difference([key, value])\n",
    "    tibble = pd.DataFrame(columns=fixed_vars) # 빈 프레임\n",
    "    # key, value: input df의 컬럼 중 새로운 테이블의 컬럼명/value가 될 값 \n",
    "\n",
    "    cols = df[key].unique()  # df['year']의 고유값들\n",
    "    for c in cols:\n",
    "        df_c = df[df[key]==c] # df['year']==2020 or 2021인 \n",
    "        del df_c[key]  #변수까지 완전 삭제\n",
    "        df_c = df_c.rename(columns = {value:c}) #value에서 c로 컬럼명 변경\n",
    "        tibble = tibble.merge(df_c, on=list(fixed_vars), how=join_how)\n",
    "        # df의 남은 컬럼 기준 병합\n",
    "    return tibble"
   ]
  },
  {
   "cell_type": "code",
   "execution_count": 52,
   "id": "993df523",
   "metadata": {},
   "outputs": [
    {
     "data": {
      "text/html": [
       "<div>\n",
       "<style scoped>\n",
       "    .dataframe tbody tr th:only-of-type {\n",
       "        vertical-align: middle;\n",
       "    }\n",
       "\n",
       "    .dataframe tbody tr th {\n",
       "        vertical-align: top;\n",
       "    }\n",
       "\n",
       "    .dataframe thead th {\n",
       "        text-align: right;\n",
       "    }\n",
       "</style>\n",
       "<table border=\"1\" class=\"dataframe\">\n",
       "  <thead>\n",
       "    <tr style=\"text-align: right;\">\n",
       "      <th></th>\n",
       "      <th>product</th>\n",
       "      <th>year</th>\n",
       "      <th>rate</th>\n",
       "    </tr>\n",
       "  </thead>\n",
       "  <tbody>\n",
       "    <tr>\n",
       "      <th>0</th>\n",
       "      <td>a</td>\n",
       "      <td>2020</td>\n",
       "      <td>123/751</td>\n",
       "    </tr>\n",
       "    <tr>\n",
       "      <th>1</th>\n",
       "      <td>b</td>\n",
       "      <td>2021</td>\n",
       "      <td>521/879</td>\n",
       "    </tr>\n",
       "  </tbody>\n",
       "</table>\n",
       "</div>"
      ],
      "text/plain": [
       "  product  year     rate\n",
       "0       a  2020  123/751\n",
       "1       b  2021  521/879"
      ]
     },
     "metadata": {},
     "output_type": "display_data"
    },
    {
     "data": {
      "text/html": [
       "<div>\n",
       "<style scoped>\n",
       "    .dataframe tbody tr th:only-of-type {\n",
       "        vertical-align: middle;\n",
       "    }\n",
       "\n",
       "    .dataframe tbody tr th {\n",
       "        vertical-align: top;\n",
       "    }\n",
       "\n",
       "    .dataframe thead th {\n",
       "        text-align: right;\n",
       "    }\n",
       "</style>\n",
       "<table border=\"1\" class=\"dataframe\">\n",
       "  <thead>\n",
       "    <tr style=\"text-align: right;\">\n",
       "      <th></th>\n",
       "      <th>product</th>\n",
       "      <th>year</th>\n",
       "      <th>purchase</th>\n",
       "      <th>total</th>\n",
       "    </tr>\n",
       "  </thead>\n",
       "  <tbody>\n",
       "    <tr>\n",
       "      <th>0</th>\n",
       "      <td>a</td>\n",
       "      <td>2020</td>\n",
       "      <td>123</td>\n",
       "      <td>751</td>\n",
       "    </tr>\n",
       "    <tr>\n",
       "      <th>1</th>\n",
       "      <td>b</td>\n",
       "      <td>2021</td>\n",
       "      <td>521</td>\n",
       "      <td>879</td>\n",
       "    </tr>\n",
       "  </tbody>\n",
       "</table>\n",
       "</div>"
      ],
      "text/plain": [
       "  product  year  purchase  total\n",
       "0       a  2020       123    751\n",
       "1       b  2021       521    879"
      ]
     },
     "metadata": {},
     "output_type": "display_data"
    }
   ],
   "source": [
    "# 한 컬럼의 값을 두개 컬럼으로 나누기\n",
    "a = pd.DataFrame({'product':['a','b'], 'year':[2020,2021],'rate':['123/751', '521/879']})\n",
    "b = pd.DataFrame({'product':['a','b'], 'year':[2020,2021],'purchase':[123,521],'total':[751,879]})\n",
    "display(a)\n",
    "display(b)  # a 테이블을 b 테이블로 형태 변화"
   ]
  },
  {
   "cell_type": "code",
   "execution_count": 49,
   "id": "7d062ca4",
   "metadata": {},
   "outputs": [],
   "source": [
    "import re\n",
    "\n",
    "def default_splitter(text): # 숫자를 string으로\n",
    "    fields = re.findall('(\\d+\\.?\\d+)', text)\n",
    "    return fields\n",
    "\n",
    "def separate(df, key, into, splitter=default_splitter):\n",
    "    # key 컬럼을 into 컬럼들로 변형 (예: key 123/456 => into 123, intoo 456)\n",
    "    #참고: http://stackoverflow.com/questions/16236684/apply-pandas-function-to-column-to-create-multiple-new-columns\n",
    "\n",
    "    def apply_splitter(text):\n",
    "        fields=splitter(text)  # % 나 $ 등 빼고 모두 string으로\n",
    "        return pd.Series({into[i]:v for i, v in enumerate(fields)})\n",
    "        # 바꿀 컬럼의 값을 인덱스: 값을 가진 dic -> 시리즈로\n",
    "    keep_vars=df.columns.difference([key]) # 바꿀 컬럼 빼고 나머지\n",
    "    t1=df[keep_vars].copy() \n",
    "    t2=df[key].apply(apply_splitter) # 바꿀 컬럼을 apply 이용해서 변형\n",
    "    return pd.concat([t1, t2], axis=1) # 동일한 형태 DF를 열 방향으로 합치기"
   ]
  },
  {
   "cell_type": "code",
   "execution_count": 53,
   "id": "7cd89632",
   "metadata": {},
   "outputs": [
    {
     "data": {
      "text/html": [
       "<div>\n",
       "<style scoped>\n",
       "    .dataframe tbody tr th:only-of-type {\n",
       "        vertical-align: middle;\n",
       "    }\n",
       "\n",
       "    .dataframe tbody tr th {\n",
       "        vertical-align: top;\n",
       "    }\n",
       "\n",
       "    .dataframe thead th {\n",
       "        text-align: right;\n",
       "    }\n",
       "</style>\n",
       "<table border=\"1\" class=\"dataframe\">\n",
       "  <thead>\n",
       "    <tr style=\"text-align: right;\">\n",
       "      <th></th>\n",
       "      <th>product</th>\n",
       "      <th>year</th>\n",
       "      <th>purchase</th>\n",
       "      <th>total</th>\n",
       "    </tr>\n",
       "  </thead>\n",
       "  <tbody>\n",
       "    <tr>\n",
       "      <th>0</th>\n",
       "      <td>a</td>\n",
       "      <td>2020</td>\n",
       "      <td>123</td>\n",
       "      <td>751</td>\n",
       "    </tr>\n",
       "    <tr>\n",
       "      <th>1</th>\n",
       "      <td>b</td>\n",
       "      <td>2021</td>\n",
       "      <td>521</td>\n",
       "      <td>879</td>\n",
       "    </tr>\n",
       "  </tbody>\n",
       "</table>\n",
       "</div>"
      ],
      "text/plain": [
       "  product  year  purchase  total\n",
       "0       a  2020       123    751\n",
       "1       b  2021       521    879"
      ]
     },
     "metadata": {},
     "output_type": "display_data"
    },
    {
     "data": {
      "text/html": [
       "<div>\n",
       "<style scoped>\n",
       "    .dataframe tbody tr th:only-of-type {\n",
       "        vertical-align: middle;\n",
       "    }\n",
       "\n",
       "    .dataframe tbody tr th {\n",
       "        vertical-align: top;\n",
       "    }\n",
       "\n",
       "    .dataframe thead th {\n",
       "        text-align: right;\n",
       "    }\n",
       "</style>\n",
       "<table border=\"1\" class=\"dataframe\">\n",
       "  <thead>\n",
       "    <tr style=\"text-align: right;\">\n",
       "      <th></th>\n",
       "      <th>product</th>\n",
       "      <th>year</th>\n",
       "      <th>rate</th>\n",
       "    </tr>\n",
       "  </thead>\n",
       "  <tbody>\n",
       "    <tr>\n",
       "      <th>0</th>\n",
       "      <td>a</td>\n",
       "      <td>2020</td>\n",
       "      <td>123/751</td>\n",
       "    </tr>\n",
       "    <tr>\n",
       "      <th>1</th>\n",
       "      <td>b</td>\n",
       "      <td>2021</td>\n",
       "      <td>521/879</td>\n",
       "    </tr>\n",
       "  </tbody>\n",
       "</table>\n",
       "</div>"
      ],
      "text/plain": [
       "  product  year     rate\n",
       "0       a  2020  123/751\n",
       "1       b  2021  521/879"
      ]
     },
     "metadata": {},
     "output_type": "display_data"
    }
   ],
   "source": [
    "# 두 컬럼의 값을 한개 컬럼으로 합치기\n",
    "a = pd.DataFrame({'product':['a','b'], 'year':[2020,2021],'purchase':[123,521],'total':[751,879]})\n",
    "b = pd.DataFrame({'product':['a','b'], 'year':[2020,2021],'rate':['123/751', '521/879']})\n",
    "display(a)\n",
    "display(b)  # a 테이블을 b 테이블로 형태 변화"
   ]
  },
  {
   "cell_type": "code",
   "execution_count": 54,
   "id": "0bbcedfb",
   "metadata": {},
   "outputs": [],
   "source": [
    "def str_join_elements(y, sep=\"\"):\n",
    "    assert type(sep) is str\n",
    "    yy = sep.join([str(yi) for yi in y])  # string으로 바꾸고 join\n",
    "    return yy\n",
    "\n",
    "def unite(df, old_col, new_col, combine=str_join_elements):\n",
    "    # 참고: http://stackoverflow.com/questions/13331698/how-to-apply-a-function-to-two-columns-of-pandas-dataframe\n",
    "    keep = df.columns.difference(old_col)\n",
    "    d = df[keep].copy()\n",
    "    d[new_col]=df[old_col].apply(combine, axis=1)\n",
    "    return d"
   ]
  },
  {
   "cell_type": "code",
   "execution_count": 56,
   "id": "ed458101",
   "metadata": {},
   "outputs": [],
   "source": [
    "# NaN값 제거하고 모든 컬럼값을 integer로 변형하기\n",
    "from math import isnan  # NaN 값 체크\n",
    "def remove_nan(df):\n",
    "    df2 = df[df['a'].apply(lambda x: not isnan(x))] # NaN이 아닌 값만 선택\n",
    "    df2['a'] = df2['a'].apply(lambda x: int(x)) # a 컬럼의 값을 integer로 변형\n",
    "    return df2"
   ]
  },
  {
   "cell_type": "code",
   "execution_count": 60,
   "id": "965ad30d",
   "metadata": {},
   "outputs": [],
   "source": [
    "# 예: 'new_sn_m065'등의 값을 가진 'who'컬럼을 여러 컬럼으로 나누기\n",
    "import re\n",
    "def divide_who(text):\n",
    "    m = re.match(\"^new_?(rel|sn|sp)_(f|m)(\\\\d{2,4})$\", text)\n",
    "    if m is None or len(m.groups()) != 3: # None이거나 3개 미만일 때\n",
    "        return ['', '', '']\n",
    "\n",
    "    fields = list(m.groups()) # 3개 그룹\n",
    "    if fields[1] == 'f':    \n",
    "        fields[1] = 'female'\n",
    "    elif fields[1] == 'm':\n",
    "        fields[1] = 'male'\n",
    "    if fields[2] == '020':\n",
    "        fields[2] = '0-20'\n",
    "    elif fields[2] == '60':\n",
    "        fields[2] = '60+'\n",
    "    elif len(fields[2]) == 4 and fields[2].isdigit(): # 길이 4이고 digit이면\n",
    "        fields[2] = fields[2][0:2] + '-' + fields[2][2:4] # 첫~두번째값-세번째값\n",
    "    return fields\n",
    "\n",
    "# df3 = separate(df,\n",
    "#                 key='who', # 바꿀 컬럼\n",
    "#                 into=['type', 'gender', 'age_group'], # 세 컬럼으로\n",
    "#                 splitter=divide_who)"
   ]
  }
 ],
 "metadata": {
  "kernelspec": {
   "display_name": "Python 3 (ipykernel)",
   "language": "python",
   "name": "python3"
  },
  "language_info": {
   "codemirror_mode": {
    "name": "ipython",
    "version": 3
   },
   "file_extension": ".py",
   "mimetype": "text/x-python",
   "name": "python",
   "nbconvert_exporter": "python",
   "pygments_lexer": "ipython3",
   "version": "3.9.12"
  }
 },
 "nbformat": 4,
 "nbformat_minor": 5
}
